{
 "cells": [
  {
   "cell_type": "code",
   "execution_count": 1,
   "metadata": {},
   "outputs": [],
   "source": [
    "# Project 1 - English Dictionary App & Library Book Management System\n",
    "\n",
    "# English Dictionary App\n",
    "import json\n",
    "\n",
    "\n",
    "def new_word():\n",
    "    with open('words.txt', 'w') as new:\n",
    "        words = input(\"Enter a word and its meaning sep by comma :\")\n",
    "        words = words.split(',')\n",
    "        # wdict = {}\n",
    "        global wdict\n",
    "        wdict[words[0]] = words[1]\n",
    "        json.dump(wdict, new)\n",
    "        print('Added Successfully')\n",
    "        # print(display())\n",
    "\n",
    "\n",
    "def find_word():\n",
    "    with open('words.txt', 'r') as find:\n",
    "        word = input('Enter a word to find its meaning :')\n",
    "        # global wdict\n",
    "        wdict = json.load(find)\n",
    "        print(wdict.get(word))\n",
    "\n",
    "\n",
    "def update_word():\n",
    "    with open('words.txt', 'w') as update:\n",
    "        words = input(\"Enter a word to update its meaning is sep by comma :\")\n",
    "        words = words.split(',')\n",
    "        global wdict\n",
    "        wdict[words[0]] = words[1]\n",
    "        json.dump(wdict, update)\n",
    "        print(\"Updated Successfully\")\n",
    "        return update\n",
    "\n",
    "\n",
    "def display():\n",
    "    with open('words.txt', 'r') as show:\n",
    "        print(show)\n",
    "\n",
    "# def exits():\n",
    "#     exit()"
   ]
  },
  {
   "cell_type": "code",
   "execution_count": 2,
   "metadata": {},
   "outputs": [
    {
     "name": "stdout",
     "output_type": "stream",
     "text": [
      "Main Menu :\n",
      "Add a new word\n",
      "Find the meaning\n",
      "Update a word\n",
      "Exit\n",
      "Enter any option :Add a new word\n",
      "Enter a word and its meaning sep by comma :Fun,Entertainment\n",
      "Added Successfully\n",
      "Enter any option :Find the meaning\n",
      "Enter a word to find its meaning :Fun\n",
      "Entertainment\n",
      "Enter any option :Update a word\n",
      "Enter a word to update its meaning is sep by comma :Fun,Enjoy\n",
      "Updated Successfully\n",
      "Enter any option :Exit\n",
      "Good Bye\n"
     ]
    }
   ],
   "source": [
    "wdict = {}\n",
    "print(\"Main Menu :\")\n",
    "print(\"Add a new word\")\n",
    "print(\"Find the meaning\")\n",
    "print(\"Update a word\")\n",
    "print(\"Exit\")\n",
    "\n",
    "\n",
    "while True:\n",
    "    select = input(\"Enter any option :\")\n",
    "    if select == \"Add a new word\":\n",
    "        new_word()\n",
    "    elif select == \"Find the meaning\":\n",
    "        find_word()\n",
    "    elif select == \"Update a word\":\n",
    "        update_word()\n",
    "    elif select == 'Exit':\n",
    "        print(\"Good Bye\")\n",
    "        # exit()\n",
    "        break\n",
    "    else:\n",
    "        print(\"Invalid input\")"
   ]
  },
  {
   "cell_type": "code",
   "execution_count": null,
   "metadata": {},
   "outputs": [],
   "source": []
  }
 ],
 "metadata": {
  "kernelspec": {
   "display_name": "Python 3",
   "language": "python",
   "name": "python3"
  },
  "language_info": {
   "codemirror_mode": {
    "name": "ipython",
    "version": 3
   },
   "file_extension": ".py",
   "mimetype": "text/x-python",
   "name": "python",
   "nbconvert_exporter": "python",
   "pygments_lexer": "ipython3",
   "version": "3.7.4"
  }
 },
 "nbformat": 4,
 "nbformat_minor": 2
}
