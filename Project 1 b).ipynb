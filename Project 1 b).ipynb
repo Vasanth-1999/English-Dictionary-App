{
 "cells": [
  {
   "cell_type": "code",
   "execution_count": 1,
   "metadata": {},
   "outputs": [
    {
     "data": {
      "text/plain": [
       "''"
      ]
     },
     "execution_count": 1,
     "metadata": {},
     "output_type": "execute_result"
    }
   ],
   "source": [
    "from tkinter import Tk, Frame, Label, Entry, Radiobutton, StringVar, TOP, BOTTOM, LEFT, RIGHT, Button, DISABLED, Scrollbar, VERTICAL, HORIZONTAL, Y, X, W, NO\n",
    "import sqlite3\n",
    "import tkinter.ttk as ttk\n",
    "import tkinter.messagebox as tkMessageBox\n",
    "\n",
    "root = Tk()\n",
    "root.title('A Library Application')"
   ]
  },
  {
   "cell_type": "code",
   "execution_count": 2,
   "metadata": {},
   "outputs": [],
   "source": [
    "# Functions\n",
    "def Database():\n",
    "    global conn, cursor\n",
    "    conn = sqlite3.connect('library.db')\n",
    "    cursor = conn.cursor()\n",
    "    cursor.execute(\n",
    "        \"CREATE TABLE IF NOT EXISTS books (id INTEGER PRIMARY KEY AUTOINCREMENT NOT NULL, booktitle TEXT, author TEXT, year INTEGER, isbn TEXT)\")\n",
    "\n",
    "\n",
    "def Add():\n",
    "    if BOOKTITLE.get() == \"\" or AUTHOR.get() == \"\" or YEAR.get() == \"\" or ISBN.get() == \"\":\n",
    "        txt_result.config(text=\"Please enter all the fields\", fg=\"red\")\n",
    "    else:\n",
    "        Database()\n",
    "        cursor.execute(\"INSERT INTO books (booktitle, author, year, isbn) VALUES (?,?,?,?)\",\n",
    "                       (BOOKTITLE.get(), AUTHOR.get(), YEAR.get(), ISBN.get()))\n",
    "        # (booktitle, author, year, isbn)\n",
    "        conn.commit()\n",
    "        BOOKTITLE.set(\"\")\n",
    "        AUTHOR.set(\"\")\n",
    "        YEAR.set(\"\")\n",
    "        ISBN.set(\"\")\n",
    "        # cursor.commit()\n",
    "        conn.close()\n",
    "        txt_result.config(text=\"Created a data !\", fg=\"green\")\n",
    "\n",
    "\n",
    "def Display():\n",
    "    tree.delete(*tree.get_children())\n",
    "    Database()\n",
    "    cursor.execute(\"SELECT * FROM books\")\n",
    "    fetch = cursor.fetchall()\n",
    "    for data in fetch:\n",
    "        tree.insert(\"\", \"end\", values=(data[1], data[2], data[3], data[4]))\n",
    "    cursor.close()\n",
    "    conn.close()\n",
    "    txt_result.config(\n",
    "        text=\"Successfully read the data from database\", fg=\"black\")\n",
    "\n",
    "\n",
    "def Exit():\n",
    "    result = tkMessageBox.askquestion(\"Do you want to exit ?\", icon=\"warning\")\n",
    "    if result == 'yes':\n",
    "        root.destroy()\n",
    "        exit()"
   ]
  },
  {
   "cell_type": "code",
   "execution_count": 3,
   "metadata": {},
   "outputs": [],
   "source": [
    "# Variable Declaration\n",
    "BOOKTITLE = StringVar()\n",
    "AUTHOR = StringVar()\n",
    "YEAR = StringVar()\n",
    "ISBN = StringVar()\n",
    "\n",
    "\n",
    "# Frame\n",
    "Top = Frame(root, width=900, height=50, bd=8, relief='raise', bg='blue')\n",
    "Top.pack(side=TOP)\n",
    "Left = Frame(root, width=300, height=500, bd=8,\n",
    "             relief='raise', background='red')\n",
    "Left.pack(side=LEFT)\n",
    "Right = Frame(root, width=600, height=500, bd=8, relief='raise', bg='yellow')\n",
    "Right.pack(side=RIGHT)\n",
    "\n",
    "\n",
    "Forms = Frame(Left, width=300, height=450)\n",
    "Forms.pack(side=TOP)\n",
    "\n",
    "Buttons = Frame(Left, width=300, height=100, bd=8, relief='raise')\n",
    "Buttons.pack(side=BOTTOM)"
   ]
  },
  {
   "cell_type": "code",
   "execution_count": 4,
   "metadata": {},
   "outputs": [],
   "source": [
    "# Labels\n",
    "txt_title = Label(Top, width=900, font=(\"arial\", 24),\n",
    "                  text=\".....Library Management Application.....\")\n",
    "txt_title.pack()\n",
    "txt_booktitle = Label(Forms, text='Booktitle:', font=(\"arial\", 16), bd=15)\n",
    "txt_booktitle.grid(row=0, sticky=\"e\")\n",
    "txt_author = Label(Forms, text='Author:', font=(\"arial\", 16), bd=15)\n",
    "txt_author.grid(row=1, sticky=\"e\")\n",
    "txt_year = Label(Forms, text='Year:', font=(\"arial\", 16), bd=15)\n",
    "txt_year.grid(row=2, sticky=\"e\")\n",
    "txt_isbn = Label(Forms, text='ISBN:', font=(\"arial\", 16), bd=15)\n",
    "txt_isbn.grid(row=3, sticky=\"e\")\n",
    "txt_result = Label(Buttons)\n",
    "txt_result.pack(side=TOP)"
   ]
  },
  {
   "cell_type": "code",
   "execution_count": 5,
   "metadata": {},
   "outputs": [],
   "source": [
    "# Entry Widget\n",
    "booktitle = Entry(Forms, textvariable=BOOKTITLE, width=30)\n",
    "booktitle.grid(row=0, column=1)\n",
    "author = Entry(Forms, textvariable=AUTHOR, width=30)\n",
    "author.grid(row=1, column=1)\n",
    "year = Entry(Forms, textvariable=YEAR, width=30)\n",
    "year.grid(row=2, column=1)\n",
    "isbn = Entry(Forms, textvariable=ISBN, width=30)\n",
    "isbn.grid(row=3, column=1)"
   ]
  },
  {
   "cell_type": "code",
   "execution_count": 6,
   "metadata": {},
   "outputs": [],
   "source": [
    "# Button Widget\n",
    "btn_display = Button(Buttons, width=10, text='Display', command=Display)\n",
    "btn_display.pack(side=LEFT)\n",
    "btn_search = Button(Buttons, width=10, text='Search', state=DISABLED)\n",
    "btn_search.pack(side=LEFT)\n",
    "btn_add = Button(Buttons, width=10, text='Add', command=Add)\n",
    "btn_add.pack(side=LEFT)\n",
    "btn_issue = Button(Buttons, width=10, text='Issue', state=DISABLED)\n",
    "btn_issue.pack(side=LEFT)\n",
    "btn_delete = Button(Buttons, width=10, text='Delete', state=DISABLED)\n",
    "btn_delete.pack(side=LEFT)\n",
    "btn_exit = Button(Buttons, width=10, text='Exit', command=Exit)\n",
    "btn_exit.pack(side=LEFT)"
   ]
  },
  {
   "cell_type": "code",
   "execution_count": 7,
   "metadata": {},
   "outputs": [],
   "source": [
    "# List Widget\n",
    "scrollbary = Scrollbar(Right, orient=VERTICAL)\n",
    "scrollbarx = Scrollbar(Right, orient=HORIZONTAL)\n",
    "\n",
    "tree = ttk.Treeview(Right, height=40, columns=(\n",
    "    \"Booktitle\", \"Author\", \"Year\", \"ISBN\"))\n",
    "\n",
    "scrollbary.config(command=tree.yview)\n",
    "scrollbarx.config(command=tree.xview)\n",
    "scrollbary.pack(side=RIGHT, fill=Y)\n",
    "scrollbarx.pack(side=RIGHT, fill=X)\n",
    "tree.heading(\"Booktitle\", text=\"Booktitle\", anchor=W)\n",
    "tree.heading(\"Author\", text=\"Author\", anchor=W)\n",
    "tree.heading(\"Year\", text=\"Year\", anchor=W)\n",
    "tree.heading(\"ISBN\", text=\"ISBN\", anchor=W)\n",
    "tree.column(\"#0\", stretch=NO, minwidth=0, width=10)\n",
    "tree.column(\"#1\", stretch=NO, minwidth=0, width=200)\n",
    "tree.column(\"#2\", stretch=NO, minwidth=0, width=200)\n",
    "tree.column(\"#3\", stretch=NO, minwidth=0, width=95)\n",
    "tree.column(\"#4\", stretch=NO, minwidth=0, width=95)\n",
    "tree.pack()"
   ]
  },
  {
   "cell_type": "code",
   "execution_count": 8,
   "metadata": {},
   "outputs": [],
   "source": [
    "# Initialization\n",
    "if __name__ == \"__main__\":\n",
    "    root.mainloop()"
   ]
  },
  {
   "cell_type": "code",
   "execution_count": null,
   "metadata": {},
   "outputs": [],
   "source": []
  }
 ],
 "metadata": {
  "kernelspec": {
   "display_name": "Python 3",
   "language": "python",
   "name": "python3"
  },
  "language_info": {
   "codemirror_mode": {
    "name": "ipython",
    "version": 3
   },
   "file_extension": ".py",
   "mimetype": "text/x-python",
   "name": "python",
   "nbconvert_exporter": "python",
   "pygments_lexer": "ipython3",
   "version": "3.7.4"
  }
 },
 "nbformat": 4,
 "nbformat_minor": 2
}
